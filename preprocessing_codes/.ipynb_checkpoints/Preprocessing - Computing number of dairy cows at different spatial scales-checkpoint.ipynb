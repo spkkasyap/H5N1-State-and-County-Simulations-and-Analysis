{
 "cells": [
  {
   "cell_type": "code",
   "execution_count": 1,
   "id": "0c896710",
   "metadata": {},
   "outputs": [],
   "source": [
    "# Path to code repository\n",
    "code_repo_dir = '/Users/user/Documents/Codes/H5N1/H5N1-State-and-County-Simulations-and-Analysis/'"
   ]
  },
  {
   "cell_type": "code",
   "execution_count": 2,
   "id": "ca9055c5",
   "metadata": {},
   "outputs": [
    {
     "name": "stderr",
     "output_type": "stream",
     "text": [
      "/Users/user/miniconda3/lib/python3.9/site-packages/pandas/core/arrays/masked.py:60: UserWarning: Pandas requires version '1.3.6' or newer of 'bottleneck' (version '1.3.5' currently installed).\n",
      "  from pandas.core import (\n"
     ]
    }
   ],
   "source": [
    "# Loading necessary packages\n",
    "import pandas as pd\n",
    "import geopandas as gpd\n",
    "from shapely.geometry import Point\n",
    "import matplotlib.pyplot as plt\n",
    "import numpy as np\n",
    "from matplotlib.ticker import FuncFormatter\n",
    "from mpl_toolkits.axes_grid1 import make_axes_locatable"
   ]
  },
  {
   "cell_type": "markdown",
   "id": "b033e15c",
   "metadata": {},
   "source": [
    "# 1. Computing number of dairy cows in each dairy premise"
   ]
  },
  {
   "cell_type": "code",
   "execution_count": 3,
   "id": "7894522d",
   "metadata": {},
   "outputs": [],
   "source": [
    "# File paths. Change according to your local directory paths\n",
    "input_sub_dir_1 = 'data/raw/'    \n",
    "input_sub_dir_2 = 'data/processed/'\n",
    "\n",
    "output_sub_dir_1 = 'data/processed/'\n",
    "output_sub_dir_2 = 'outputs/figures/'\n",
    "\n",
    "input_filename_1 = 'cattle_FLAPS_for_USAMMv3.txt'\n",
    "input_filepath_1 = code_repo_dir + input_sub_dir_1 + input_filename_1\n",
    "\n",
    "\n",
    "output_filename_1 = 'dairy_cows_by_premises.csv'\n",
    "output_filepath_1 = code_repo_dir + output_sub_dir_1 + output_filename_1\n",
    "\n",
    "county_shapefile_path = code_repo_dir + input_sub_dir_1 + 'gadm41_USA_shp/gadm41_USA_2.shp'\n",
    "state_shapefile_path = code_repo_dir + input_sub_dir_1 + 'gadm41_USA_shp/gadm41_USA_1.shp'"
   ]
  },
  {
   "cell_type": "code",
   "execution_count": 4,
   "id": "ba8a1c24",
   "metadata": {},
   "outputs": [
    {
     "data": {
      "text/html": [
       "<div>\n",
       "<style scoped>\n",
       "    .dataframe tbody tr th:only-of-type {\n",
       "        vertical-align: middle;\n",
       "    }\n",
       "\n",
       "    .dataframe tbody tr th {\n",
       "        vertical-align: top;\n",
       "    }\n",
       "\n",
       "    .dataframe thead th {\n",
       "        text-align: right;\n",
       "    }\n",
       "</style>\n",
       "<table border=\"1\" class=\"dataframe\">\n",
       "  <thead>\n",
       "    <tr style=\"text-align: right;\">\n",
       "      <th></th>\n",
       "      <th>Id</th>\n",
       "      <th>County</th>\n",
       "      <th>X</th>\n",
       "      <th>Y</th>\n",
       "      <th>Lat</th>\n",
       "      <th>Lon</th>\n",
       "      <th>type</th>\n",
       "      <th>b</th>\n",
       "      <th>d</th>\n",
       "    </tr>\n",
       "  </thead>\n",
       "  <tbody>\n",
       "    <tr>\n",
       "      <th>53</th>\n",
       "      <td>757624</td>\n",
       "      <td>1001</td>\n",
       "      <td>844489</td>\n",
       "      <td>-8813162</td>\n",
       "      <td>32.590559</td>\n",
       "      <td>-86.803342</td>\n",
       "      <td>d</td>\n",
       "      <td>0</td>\n",
       "      <td>16</td>\n",
       "    </tr>\n",
       "    <tr>\n",
       "      <th>118</th>\n",
       "      <td>757844</td>\n",
       "      <td>1001</td>\n",
       "      <td>875641</td>\n",
       "      <td>-8810000</td>\n",
       "      <td>32.591639</td>\n",
       "      <td>-86.467205</td>\n",
       "      <td>d</td>\n",
       "      <td>0</td>\n",
       "      <td>13</td>\n",
       "    </tr>\n",
       "    <tr>\n",
       "      <th>126</th>\n",
       "      <td>757842</td>\n",
       "      <td>1001</td>\n",
       "      <td>875678</td>\n",
       "      <td>-8815462</td>\n",
       "      <td>32.543002</td>\n",
       "      <td>-86.472609</td>\n",
       "      <td>d</td>\n",
       "      <td>0</td>\n",
       "      <td>15</td>\n",
       "    </tr>\n",
       "    <tr>\n",
       "      <th>229</th>\n",
       "      <td>756096</td>\n",
       "      <td>1003</td>\n",
       "      <td>765523</td>\n",
       "      <td>-9041656</td>\n",
       "      <td>30.615888</td>\n",
       "      <td>-87.854986</td>\n",
       "      <td>d</td>\n",
       "      <td>0</td>\n",
       "      <td>4</td>\n",
       "    </tr>\n",
       "    <tr>\n",
       "      <th>245</th>\n",
       "      <td>756766</td>\n",
       "      <td>1003</td>\n",
       "      <td>799779</td>\n",
       "      <td>-9063597</td>\n",
       "      <td>30.393238</td>\n",
       "      <td>-87.517768</td>\n",
       "      <td>d</td>\n",
       "      <td>0</td>\n",
       "      <td>2</td>\n",
       "    </tr>\n",
       "    <tr>\n",
       "      <th>...</th>\n",
       "      <td>...</td>\n",
       "      <td>...</td>\n",
       "      <td>...</td>\n",
       "      <td>...</td>\n",
       "      <td>...</td>\n",
       "      <td>...</td>\n",
       "      <td>...</td>\n",
       "      <td>...</td>\n",
       "      <td>...</td>\n",
       "    </tr>\n",
       "    <tr>\n",
       "      <th>815615</th>\n",
       "      <td>729298</td>\n",
       "      <td>56043</td>\n",
       "      <td>-972175</td>\n",
       "      <td>-7522047</td>\n",
       "      <td>43.910056</td>\n",
       "      <td>-108.098869</td>\n",
       "      <td>d</td>\n",
       "      <td>0</td>\n",
       "      <td>2</td>\n",
       "    </tr>\n",
       "    <tr>\n",
       "      <th>815616</th>\n",
       "      <td>729318</td>\n",
       "      <td>56043</td>\n",
       "      <td>-964822</td>\n",
       "      <td>-7520318</td>\n",
       "      <td>43.933834</td>\n",
       "      <td>-108.010241</td>\n",
       "      <td>d</td>\n",
       "      <td>0</td>\n",
       "      <td>2</td>\n",
       "    </tr>\n",
       "    <tr>\n",
       "      <th>815749</th>\n",
       "      <td>730103</td>\n",
       "      <td>56045</td>\n",
       "      <td>-656624</td>\n",
       "      <td>-7562069</td>\n",
       "      <td>43.857095</td>\n",
       "      <td>-104.114942</td>\n",
       "      <td>d</td>\n",
       "      <td>0</td>\n",
       "      <td>4</td>\n",
       "    </tr>\n",
       "    <tr>\n",
       "      <th>815781</th>\n",
       "      <td>730094</td>\n",
       "      <td>56045</td>\n",
       "      <td>-655476</td>\n",
       "      <td>-7534925</td>\n",
       "      <td>44.100281</td>\n",
       "      <td>-104.130074</td>\n",
       "      <td>d</td>\n",
       "      <td>0</td>\n",
       "      <td>7</td>\n",
       "    </tr>\n",
       "    <tr>\n",
       "      <th>815790</th>\n",
       "      <td>730099</td>\n",
       "      <td>56045</td>\n",
       "      <td>-655124</td>\n",
       "      <td>-7538829</td>\n",
       "      <td>44.065695</td>\n",
       "      <td>-104.121427</td>\n",
       "      <td>d</td>\n",
       "      <td>0</td>\n",
       "      <td>4</td>\n",
       "    </tr>\n",
       "  </tbody>\n",
       "</table>\n",
       "<p>63984 rows × 9 columns</p>\n",
       "</div>"
      ],
      "text/plain": [
       "            Id  County       X        Y        Lat         Lon type  b   d\n",
       "53      757624    1001  844489 -8813162  32.590559  -86.803342    d  0  16\n",
       "118     757844    1001  875641 -8810000  32.591639  -86.467205    d  0  13\n",
       "126     757842    1001  875678 -8815462  32.543002  -86.472609    d  0  15\n",
       "229     756096    1003  765523 -9041656  30.615888  -87.854986    d  0   4\n",
       "245     756766    1003  799779 -9063597  30.393238  -87.517768    d  0   2\n",
       "...        ...     ...     ...      ...        ...         ...  ... ..  ..\n",
       "815615  729298   56043 -972175 -7522047  43.910056 -108.098869    d  0   2\n",
       "815616  729318   56043 -964822 -7520318  43.933834 -108.010241    d  0   2\n",
       "815749  730103   56045 -656624 -7562069  43.857095 -104.114942    d  0   4\n",
       "815781  730094   56045 -655476 -7534925  44.100281 -104.130074    d  0   7\n",
       "815790  730099   56045 -655124 -7538829  44.065695 -104.121427    d  0   4\n",
       "\n",
       "[63984 rows x 9 columns]"
      ]
     },
     "execution_count": 4,
     "metadata": {},
     "output_type": "execute_result"
    }
   ],
   "source": [
    "# Load the FLAPS file that contain information of cattle per premises (eg. farm)\n",
    "cattle_by_premises_df = pd.read_csv(input_filepath_1, sep = \"\\t\")\n",
    "cattle_by_premises_df[cattle_by_premises_df.type == \"d\"]"
   ]
  },
  {
   "cell_type": "code",
   "execution_count": 5,
   "id": "5233b468",
   "metadata": {},
   "outputs": [],
   "source": [
    "# Filter rows by cattle type 'd' (for dairy cow) and select the columns: Premises Id (Id), \n",
    "# County FIPS (County), Lat, Lon, Number of dairy cattle in premises (d) \n",
    "dairy_cows_by_premises_df = cattle_by_premises_df.loc[\n",
    "    cattle_by_premises_df.type == \"d\",  ['Id', 'County', 'Lat', 'Lon', 'd']\n",
    "].reset_index(drop=True)\n",
    "dairy_cows_by_premises_df.to_csv(output_filepath_1, index=False)"
   ]
  },
  {
   "cell_type": "markdown",
   "id": "a37a1dd5",
   "metadata": {},
   "source": [
    "# 2. Computing number of dairy cows by counties"
   ]
  },
  {
   "cell_type": "code",
   "execution_count": null,
   "id": "9d832f6e",
   "metadata": {},
   "outputs": [],
   "source": [
    "input_filename_2 = 'dairy_cows_by_premises.csv'\n",
    "input_filepath_2 = code_repo_dir + input_sub_dir_2 + input_filename_2\n",
    "\n",
    "output_filename_2 = 'dairy_cows_by_counties.csv'\n",
    "output_filepath_2 = code_repo_dir + output_sub_dir_1 + output_filename_2\n",
    "\n",
    "print(input_filepath_2, output_filepath_2)"
   ]
  },
  {
   "cell_type": "code",
   "execution_count": null,
   "id": "116d4c4c",
   "metadata": {},
   "outputs": [],
   "source": [
    "dairy_cows_by_premises_df = pd.read_csv(input_filepath_2)\n",
    "dairy_cows_by_premises_df"
   ]
  },
  {
   "cell_type": "code",
   "execution_count": null,
   "id": "4cf630ac",
   "metadata": {},
   "outputs": [],
   "source": [
    "# Load US shape file with counties as administrative regions and trim to mainland \n",
    "counties_shp_gdf = gpd.read_file(county_shapefile_path)\n",
    "counties_shp_gdf = counties_shp_gdf.cx[-130:-60, 25:50]\n",
    "counties_shp_gdf"
   ]
  },
  {
   "cell_type": "code",
   "execution_count": null,
   "id": "81db9df6",
   "metadata": {},
   "outputs": [],
   "source": [
    "# Convert the dairy_cows_by_premises dataframe to a geodataframe\n",
    "geometry = [Point(xy) for xy in zip(dairy_cows_by_premises_df['Lon'], dairy_cows_by_premises_df['Lat'])]\n",
    "dairy_cows_by_premises_gdf = gpd.GeoDataFrame(dairy_cows_by_premises_df, geometry=geometry)\n",
    "dairy_cows_by_premises_gdf"
   ]
  },
  {
   "cell_type": "code",
   "execution_count": null,
   "id": "b4b7cc57",
   "metadata": {},
   "outputs": [],
   "source": [
    "# Set the CRS of the cattle data to match the states shapefile if they are different\n",
    "# Assuming states_gdf is in EPSG:4326, update if necessary\n",
    "dairy_cows_by_premises_gdf.set_crs(epsg=4326, inplace=True)\n",
    "dairy_cows_by_premises_gdf.to_crs(counties_shp_gdf.crs, inplace=True)"
   ]
  },
  {
   "cell_type": "code",
   "execution_count": null,
   "id": "59005029",
   "metadata": {},
   "outputs": [],
   "source": [
    "# Perform a spatial join to aggregate cows data by counties\n",
    "# Spatial join to get county names\n",
    "dairy_cows_by_premises_with_county_gdf = gpd.sjoin(dairy_cows_by_premises_gdf, counties_shp_gdf, how='left', op='within')\n",
    "dairy_cows_by_premises_with_county_gdf"
   ]
  },
  {
   "cell_type": "code",
   "execution_count": null,
   "id": "c716c192",
   "metadata": {},
   "outputs": [],
   "source": [
    "# Aggregate the number of dairy cows by county\n",
    "dairy_cows_by_county = dairy_cows_by_premises_with_county_gdf.groupby(['NAME_1','NAME_2'])['d'].sum().reset_index()\n",
    "dairy_cows_by_county.sort_values(by = 'd', ascending = False).head(50)"
   ]
  },
  {
   "cell_type": "code",
   "execution_count": null,
   "id": "0ada82bc",
   "metadata": {},
   "outputs": [],
   "source": [
    "dairy_cows_by_county.to_csv(output_filepath_2, index=False)"
   ]
  },
  {
   "cell_type": "markdown",
   "id": "8736ee33",
   "metadata": {},
   "source": [
    "# 3. Plotting county-wise dairy cows distribution"
   ]
  },
  {
   "cell_type": "code",
   "execution_count": null,
   "id": "7d1baf64",
   "metadata": {},
   "outputs": [],
   "source": [
    "# Merge the aggregated data with the counties GeoDataFrame\n",
    "counties_dc_geom_gdf = counties_shp_gdf.merge(dairy_cows_by_county, \n",
    "                                        left_on=['NAME_1', 'NAME_2'], right_on=['NAME_1','NAME_2'], how='left')\n",
    "counties_dc_geom_gdf.head(5)"
   ]
  },
  {
   "cell_type": "code",
   "execution_count": null,
   "id": "4534d4ed",
   "metadata": {},
   "outputs": [],
   "source": [
    "fig_filename = 'dairy_cows_by_county_logscale.png'\n",
    "fig_path = code_repo_dir + output_sub_dir_2 + fig_filename\n",
    "print(fig_path)"
   ]
  },
  {
   "cell_type": "code",
   "execution_count": null,
   "id": "af14a079",
   "metadata": {},
   "outputs": [],
   "source": [
    "counties_dc_geom_gdf['log_d'] = np.log(counties_dc_geom_gdf['d'])\n",
    "counties_dc_geom_gdf"
   ]
  },
  {
   "cell_type": "code",
   "execution_count": null,
   "id": "4e126e89",
   "metadata": {
    "scrolled": true
   },
   "outputs": [],
   "source": [
    "# Plot the states with colors corresponding to the number of dairy cows\n",
    "fig, ax = plt.subplots(figsize=(12, 10))\n",
    "counties_dc_geom_gdf.boundary.plot(ax=ax, linewidth=1, color='black', alpha = 0.2)\n",
    "state_borders = gpd.read_file(state_shapefile_path)\n",
    "state_borders = state_borders.cx[-130:-60, 25:50]\n",
    "\n",
    "# Plot state borders\n",
    "state_borders.plot(ax=plt.gca(), color='none', edgecolor='black', linewidth=1.5, alpha =1)\n",
    "\n",
    "# Plot the aggregated dairy cows count per county\n",
    "counties_dc_geom_gdf.plot(column='log_d', ax=ax, legend=True, \n",
    "                legend_kwds={'shrink': 0.4, 'label': \"Dairy Cows per County (log-scale)\",\n",
    "                             'orientation': \"horizontal\", \n",
    "                             'pad': 0.1, 'fmt': '%.0f'},\n",
    "                cmap = \"OrRd\"\n",
    "        )\n",
    "\n",
    "cbar = ax.get_figure().axes[-1] \n",
    "cbar.set_xlabel(\"Dairy Cows per County (log-scale)\", fontsize=12)  # Adjust fontsize here\n",
    "\n",
    "plt.title('Population of Dairy Cows by County in the US (log scale)', fontsize = 18)\n",
    "plt.xlabel('Longitude', fontsize = 14)\n",
    "plt.ylabel('Latitude', fontsize = 14)\n",
    "plt.savefig(fig_path, dpi = 600)\n",
    "plt.show()"
   ]
  },
  {
   "cell_type": "markdown",
   "id": "a6ab1ab8",
   "metadata": {},
   "source": [
    "# 4. Computing number of dairy cows by state"
   ]
  },
  {
   "cell_type": "code",
   "execution_count": null,
   "id": "2aa64c80",
   "metadata": {},
   "outputs": [],
   "source": [
    "output_filename_3 = 'dairy_cows_by_state.csv'\n",
    "output_filepath_3 = code_repo_dir + output_sub_dir_1 + output_filename_3\n",
    "output_filepath_3"
   ]
  },
  {
   "cell_type": "code",
   "execution_count": null,
   "id": "04f1e3b2",
   "metadata": {},
   "outputs": [],
   "source": [
    "dairy_cows_by_state = counties_dc_geom_gdf.groupby('NAME_1')['d'].sum().reset_index()\n",
    "dairy_cows_by_state[\"d\"] = dairy_cows_by_state[\"d\"].astype(int)\n",
    "dairy_cows_by_state.sort_values(by = 'd', ascending = False)"
   ]
  },
  {
   "cell_type": "code",
   "execution_count": null,
   "id": "5f4ea07e",
   "metadata": {},
   "outputs": [],
   "source": [
    "dairy_cows_by_state.to_csv(output_filepath_3, index=False)"
   ]
  }
 ],
 "metadata": {
  "kernelspec": {
   "display_name": "Python 3 (ipykernel)",
   "language": "python",
   "name": "python3"
  },
  "language_info": {
   "codemirror_mode": {
    "name": "ipython",
    "version": 3
   },
   "file_extension": ".py",
   "mimetype": "text/x-python",
   "name": "python",
   "nbconvert_exporter": "python",
   "pygments_lexer": "ipython3",
   "version": "3.9.18"
  }
 },
 "nbformat": 4,
 "nbformat_minor": 5
}
